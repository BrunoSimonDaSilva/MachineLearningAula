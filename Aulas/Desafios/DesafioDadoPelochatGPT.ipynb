{
 "cells": [
  {
   "cell_type": "code",
   "execution_count": null,
   "metadata": {},
   "outputs": [],
   "source": [
    "# pacotes comuns\n",
    "import numpy as np\n",
    "import pandas as pd\n",
    "import matplotlib.pyplot as plt\n",
    "from sklearn.model_selection import train_test_split\n",
    "from sklearn.ensemble import RandomForestClassifier\n",
    "from sklearn.metrics import accuracy_score\n",
    "#pacotes de dados\n",
    "from sklearn.datasets import load_iris;\n",
    "flowersData = load_iris();\n",
    "X = pd.DataFrame(flowersData.data, columns=flowersData.feature_names);\n",
    "Y = flowersData.target\n",
    "\n",
    "X_train, X_test, Y_train, Y_test = train_test_split(X, Y, test_size=0.2, random_state=42);\n",
    "\n",
    "Forest = RandomForestClassifier(max_depth=3, random_state=42);\n",
    "Forest.fit(X_train, Y_train);\n",
    "\n",
    "df_flowers = X.copy();\n",
    "Y_pred = Forest.predict(X_test)\n",
    "\n",
    "acc = accuracy_score(Y_test, Y_pred)\n",
    "print(f\"Acurácia do modelo: {acc:.2f}\")\n",
    "\n",
    "plt.figure(figsize = (12,8))\n",
    "plt.scatter(Y_test, Y_pred, c=\"r\", alpha=0.6)\n",
    "plt.title('Previsão vs Real', fontsize = 16)\n",
    "plt.xlabel(\"Valor real\", fontsize = 16)\n",
    "plt.ylabel(\"Previsão\", fontsize = 16)\n",
    "plt.show()"
   ]
  },
  {
   "cell_type": "code",
   "execution_count": 27,
   "metadata": {},
   "outputs": [
    {
     "name": "stdout",
     "output_type": "stream",
     "text": [
      "Previsões para novas amostras: [0 2]\n"
     ]
    },
    {
     "name": "stderr",
     "output_type": "stream",
     "text": [
      "c:\\Users\\Bruno\\anaconda3\\Lib\\site-packages\\sklearn\\base.py:493: UserWarning: X does not have valid feature names, but RandomForestClassifier was fitted with feature names\n",
      "  warnings.warn(\n"
     ]
    }
   ],
   "source": [
    "nova_amostra = np.array([[5.1, 3.5, 1.4, 0.2],  # Características de uma flor\n",
    "                         [6.7, 3.0, 5.2, 2.3]]) # Outra flor\n",
    "\n",
    "# Fazer previsões\n",
    "previsoes_novas = Forest.predict(nova_amostra)\n",
    "print(\"Previsões para novas amostras:\", previsoes_novas)"
   ]
  }
 ],
 "metadata": {
  "kernelspec": {
   "display_name": "base",
   "language": "python",
   "name": "python3"
  },
  "language_info": {
   "codemirror_mode": {
    "name": "ipython",
    "version": 3
   },
   "file_extension": ".py",
   "mimetype": "text/x-python",
   "name": "python",
   "nbconvert_exporter": "python",
   "pygments_lexer": "ipython3",
   "version": "3.12.7"
  }
 },
 "nbformat": 4,
 "nbformat_minor": 2
}
