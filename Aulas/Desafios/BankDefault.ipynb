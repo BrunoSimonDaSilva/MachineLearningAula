{
 "cells": [
  {
   "cell_type": "code",
   "execution_count": 8,
   "metadata": {},
   "outputs": [],
   "source": [
    "# pacotes comuns\n",
    "import numpy as np\n",
    "import pandas as pd\n",
    "import matplotlib.pyplot as plt\n",
    "import seaborn as sns\n",
    "#Pacotes de machine learn\n",
    "from sklearn import datasets\n",
    "from sklearn.linear_model import LogisticRegression\n",
    "from sklearn.model_selection import train_test_split\n",
    "from sklearn.metrics import f1_score, accuracy_score, confusion_matrix\n",
    "from sklearn.datasets import fetch_openml\n",
    "from sklearn.preprocessing import LabelEncoder\n",
    "#Ignorar avisos\n",
    "import warnings\n",
    "warnings.filterwarnings(\"ignore\");\n",
    "\n"
   ]
  },
  {
   "cell_type": "code",
   "execution_count": 16,
   "metadata": {},
   "outputs": [
    {
     "name": "stdout",
     "output_type": "stream",
     "text": [
      "Index(['checking_status', 'duration', 'credit_history', 'purpose',\n",
      "       'credit_amount', 'savings_status', 'employment',\n",
      "       'installment_commitment', 'personal_status', 'other_parties',\n",
      "       'residence_since', 'property_magnitude', 'age', 'other_payment_plans',\n",
      "       'housing', 'existing_credits', 'job', 'num_dependents', 'own_telephone',\n",
      "       'foreign_worker', 'target'],\n",
      "      dtype='object')\n",
      "0      3\n",
      "1      3\n",
      "2      2\n",
      "3      3\n",
      "4      3\n",
      "      ..\n",
      "995    2\n",
      "996    0\n",
      "997    3\n",
      "998    3\n",
      "999    3\n",
      "Name: job, Length: 1000, dtype: int8\n"
     ]
    }
   ],
   "source": [
    "#dados\n",
    "credit_data = fetch_openml(data_id=31, as_frame=True)\n",
    "data = credit_data.data.copy()\n",
    "\n",
    "categorical_cols = data.select_dtypes(include=[\"category\"]).columns.tolist()\n",
    "for col in categorical_cols:\n",
    "    data[col] = data[col].cat.codes\n",
    "    \n",
    "data[\"target\"] = credit_data.target.astype(\"category\").cat.codes\n",
    "features = data.columns;\n",
    "print(features);\n",
    "print(data[\"job\"]);"
   ]
  },
  {
   "cell_type": "code",
   "execution_count": null,
   "metadata": {},
   "outputs": [],
   "source": [
    "sns.pairplot(data[features], hue=\"target\");"
   ]
  },
  {
   "cell_type": "code",
   "execution_count": 10,
   "metadata": {},
   "outputs": [
    {
     "name": "stdout",
     "output_type": "stream",
     "text": [
      "Acurácia do conjunto treino:  0.86875\n",
      "Acurácia do conjunto teste:  0.87\n"
     ]
    }
   ],
   "source": [
    "X = data[features].copy();\n",
    "Y = data[\"target\"].copy();\n",
    "X_train, X_test, Y_train, Y_test = train_test_split(X, Y, test_size=0.30, random_state=12);\n",
    "\n",
    "Logistic = LogisticRegression();\n",
    "Logistic.fit(X_train, Y_train);\n",
    "Train_Predict = Logistic.predict(X_train);\n",
    "Test_Predict = Logistic.predict(X_test);\n",
    "print(\"Acurácia do conjunto treino: \", accuracy_score(Y_train, Train_Predict));\n",
    "print(\"Acurácia do conjunto teste: \", accuracy_score(Y_test, Test_Predict));"
   ]
  },
  {
   "cell_type": "code",
   "execution_count": null,
   "metadata": {},
   "outputs": [],
   "source": [
    "sns.set(font_scale=1.4);\n",
    "df_cm = pd.DataFrame(confusion_matrix(Y_test, Test_Predict), index = [\"Nao\", \"Sim\"], columns=[\"Nao\", \"Sim\"])\n",
    "sns.heatmap(df_cm, annot=True, annot_kws={\"size\":16}, fmt=\".0f\", cmap=\"coolwarm\");\n",
    "plt.xlabel(\"previmos inadimplência?\");\n",
    "plt.ylabel(\"era inadimplência?\");\n",
    "plt.title(\"Matriz de confusao\");"
   ]
  }
 ],
 "metadata": {
  "kernelspec": {
   "display_name": "base",
   "language": "python",
   "name": "python3"
  },
  "language_info": {
   "codemirror_mode": {
    "name": "ipython",
    "version": 3
   },
   "file_extension": ".py",
   "mimetype": "text/x-python",
   "name": "python",
   "nbconvert_exporter": "python",
   "pygments_lexer": "ipython3",
   "version": "3.12.7"
  }
 },
 "nbformat": 4,
 "nbformat_minor": 2
}
