{
 "cells": [
  {
   "cell_type": "code",
   "execution_count": 3,
   "metadata": {},
   "outputs": [],
   "source": [
    "# pacotes comuns\n",
    "import numpy as np\n",
    "import pandas as pd\n",
    "import matplotlib.pyplot as plt\n",
    "#Pacotes de machine learn\n",
    "from sklearn.ensemble import RandomForestRegressor\n",
    "from sklearn.datasets import fetch_openml\n",
    "from sklearn.model_selection import train_test_split\n",
    "boston = fetch_openml(name=\"boston\", version=1)\n",
    "#Ignorar avisos\n",
    "import warnings\n",
    "warnings.filterwarnings(\"ignore\");"
   ]
  },
  {
   "cell_type": "code",
   "execution_count": 7,
   "metadata": {
    "tags": [
     "Aplica variáveis"
    ]
   },
   "outputs": [],
   "source": [
    "x = pd.DataFrame(boston.data, columns=boston.feature_names);\n",
    "y = boston.target;\n",
    "dados = x.copy();\n",
    "dados[\"preco\"] = y;"
   ]
  },
  {
   "cell_type": "code",
   "execution_count": 15,
   "metadata": {
    "tags": [
     "Define o erro quadrático médio EQM"
    ]
   },
   "outputs": [],
   "source": [
    "def eqm(y_verdadeir, y_Previsto) : \n",
    "    \"\"\"\n",
    "    Input: Dois vetores com a mesma dimenção\n",
    "    Output: Escalar com o erro quadrático médio\n",
    "    \"\"\"\n",
    "    return np.mean(np.square(y_verdadeir-y_Previsto));"
   ]
  },
  {
   "cell_type": "code",
   "execution_count": 44,
   "metadata": {
    "tags": [
     "Cria um modelo simples, o treina e faz a previsão. Aplicando a previsão na variavel X[\"preco_previsto\"]"
    ]
   },
   "outputs": [],
   "source": [
    "model = RandomForestRegressor();\n",
    "model.fit(x, y);\n",
    "x[\"preco_previsto\"] = model.predict(x);"
   ]
  },
  {
   "cell_type": "code",
   "execution_count": null,
   "metadata": {
    "tags": [
     "Cria um gráfico para demonstrar a relação entre preço verdadeiro e preço previsto"
    ]
   },
   "outputs": [],
   "source": [
    "plt.figure(figsize = (12,8));\n",
    "plt.scatter(x['preco_previsto'], y, c=\"r\", alpha=0.6);\n",
    "plt.title('Preço mediano previsto e Preço mediano verdadeiro', fontsize = 16);\n",
    "plt.xlabel(\"Preço mediano previsto\", fontsize = 16);\n",
    "plt.ylabel(\"Preço mediano verdadeiro\");\n",
    "plt.show();"
   ]
  },
  {
   "cell_type": "code",
   "execution_count": 8,
   "metadata": {
    "tags": [
     "Aqui se inicia um novo exemplo. Faz a divisão do dados entre o conjunto Treino, Validação e Teste"
    ]
   },
   "outputs": [],
   "source": [
    "X_treino, X_dev, Y_treino, Y_dev = train_test_split(x, y, test_size=0.3, random_state=42);\n",
    "X_val, X_teste, Y_val, Y_teste = train_test_split(X_dev, Y_dev, test_size=0.5, random_state=42);\n",
    "\n",
    "variaveis = X_treino.columns;"
   ]
  },
  {
   "cell_type": "code",
   "execution_count": 18,
   "metadata": {
    "tags": [
     "Cria e treina o modelo 1 e adiciona a previsão no X_treino e no X_val"
    ]
   },
   "outputs": [],
   "source": [
    "modelo1 = RandomForestRegressor(max_depth=2,random_state=12);\n",
    "modelo1.fit(X_treino[variaveis], Y_treino);\n",
    "X_treino[\"preco_previsto_1\"] = modelo1.predict(X_treino[variaveis]);\n",
    "X_val[\"preco_previsto_1\"] = modelo1.predict(X_val[variaveis]);"
   ]
  },
  {
   "cell_type": "code",
   "execution_count": 32,
   "metadata": {
    "tags": [
     "Cria e treina o modelo 2 e adiciona a previsão no X_treino e no X_val"
    ]
   },
   "outputs": [],
   "source": [
    "modelo2 = RandomForestRegressor(max_depth=10,random_state=12);\n",
    "modelo2.fit(X_treino[variaveis], Y_treino);\n",
    "X_treino[\"preco_previsto_2\"] = modelo2.predict(X_treino[variaveis]);\n",
    "X_val[\"preco_previsto_2\"] = modelo2.predict(X_val[variaveis]);"
   ]
  },
  {
   "cell_type": "code",
   "execution_count": 20,
   "metadata": {
    "tags": [
     "Cria e treina o modelo 3 e adiciona a previsão no X_treino e no X_val"
    ]
   },
   "outputs": [],
   "source": [
    "modelo3 = RandomForestRegressor(max_depth=None,random_state=12);\n",
    "modelo3.fit(X_treino[variaveis], Y_treino);\n",
    "X_treino[\"preco_previsto_3\"] = modelo3.predict(X_treino[variaveis]);\n",
    "X_val[\"preco_previsto_3\"] = modelo3.predict(X_val[variaveis]);"
   ]
  },
  {
   "cell_type": "code",
   "execution_count": null,
   "metadata": {
    "tags": [
     "Apresenta o gráfico com a mesma relação que o anterior mas usando os 3 modelos diferentes."
    ]
   },
   "outputs": [],
   "source": [
    "plt.figure(figsize = (10,6));\n",
    "plt.scatter(X_treino['preco_previsto_1'], Y_treino, c=\"r\", alpha=0.4, label=\"modelo1\");\n",
    "plt.scatter(X_treino['preco_previsto_2'], Y_treino, c=\"g\", alpha=0.4, label=\"modelo2\");\n",
    "plt.scatter(X_treino['preco_previsto_3'], Y_treino, c=\"b\", alpha=0.4, label=\"modelo3\");\n",
    "plt.title('Treino: Preço mediano previsto e Preço mediano verdadeiro', fontsize = 16);\n",
    "plt.xlabel(\"Preço mediano previsto\", fontsize = 16);\n",
    "plt.ylabel(\"Preço mediano verdadeiro\", fontsize = 16);\n",
    "plt.legend(fontsize=14);\n",
    "plt.show();"
   ]
  },
  {
   "cell_type": "code",
   "execution_count": null,
   "metadata": {
    "tags": [
     "Faz o EQM para verificar a qualidade dos gráficos: O que retornar o menor valor é melhor"
    ]
   },
   "outputs": [],
   "source": [
    "novo_EQM_val1 = eqm(X_val['preco_previsto_1'], Y_val);\n",
    "novo_EQM_val2 = eqm(X_val['preco_previsto_2'], Y_val);\n",
    "novo_EQM_val3 = eqm(X_val['preco_previsto_3'], Y_val);\n",
    "\n",
    "print(\"EQM da validação no modelo 1 foi de: \", novo_EQM_val1);\n",
    "print(\"EQM da validação no modelo 2 foi de: \", novo_EQM_val2);\n",
    "print(\"EQM da validação no modelo 3 foi de: \", novo_EQM_val3);"
   ]
  },
  {
   "cell_type": "code",
   "execution_count": 34,
   "metadata": {
    "tags": [
     "Como o modelo2 foi o melhor na VALIDAÇÂO, vamos aplicar ele na variável de testes e depois gerar um gráfico, para ver como se comporta nos testes"
    ]
   },
   "outputs": [],
   "source": [
    "X_teste[\"preco_previsto\"] = modelo2.predict(X_teste[variaveis]);\n",
    "plt.figure(figsize = (10,6));\n",
    "plt.scatter(X_teste[\"preco_previsto\"], Y_teste, c=\"r\", alpha=0.4);\n",
    "plt.title('Testes modelo2: Preço mediano previsto e Preço mediano verdadeiro', fontsize = 16);\n",
    "plt.xlabel(\"Preço mediano previsto\", fontsize = 16);\n",
    "plt.ylabel(\"Preço mediano verdadeiro\", fontsize = 16);\n",
    "plt.legend(fontsize=14);\n",
    "plt.show();"
   ]
  },
  {
   "cell_type": "code",
   "execution_count": null,
   "metadata": {
    "tags": [
     "Como mais uma forma de verificação realizamos um EQM da variavel de testes"
    ]
   },
   "outputs": [],
   "source": [
    "novo_EQM_Testes = eqm(X_teste[\"preco_previsto\"], Y_teste);\n",
    "print(\"EQM do conjunto testes foi de: \", novo_EQM_Testes);"
   ]
  }
 ],
 "metadata": {
  "kernelspec": {
   "display_name": "base",
   "language": "python",
   "name": "python3"
  },
  "language_info": {
   "codemirror_mode": {
    "name": "ipython",
    "version": 3
   },
   "file_extension": ".py",
   "mimetype": "text/x-python",
   "name": "python",
   "nbconvert_exporter": "python",
   "pygments_lexer": "ipython3",
   "version": "3.12.7"
  }
 },
 "nbformat": 4,
 "nbformat_minor": 2
}
